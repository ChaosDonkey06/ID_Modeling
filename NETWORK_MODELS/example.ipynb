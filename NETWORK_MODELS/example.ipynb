{
 "cells": [
  {
   "cell_type": "markdown",
   "metadata": {},
   "source": [
    "# Network Models\n",
    "\n",
    "Epidemiological models on defined contact network.\n",
    "\n",
    "All models are implemented in a Markov Chain Fashion (Next state $t+1$ only depend on current state $t$)."
   ]
  },
  {
   "cell_type": "markdown",
   "metadata": {},
   "source": [
    "## SIR Model\n",
    "\n",
    "States: Susceptible ($S$), Infected ($I$), Recovered ($R$)\n",
    "\n",
    "$P_e:$ Exposure Probability\n",
    "\n",
    "$T_r:$ Recovery time\n",
    "\n",
    "\\begin{equation}\n",
    "\\begin{split}\n",
    "S \\rightarrow^{P_e} I\\\\\n",
    "I \\rightarrow^{1/T_r} R\\\\\n",
    "\\end{split}\n",
    "\\end{equation}\n",
    "\n",
    "## SEIR Model\n",
    "States: Susceptible ($S$), Exposed ($I$), Infected ($I$), Recovered ($R$)\n",
    "\n",
    "$P_e:$ Exposure Probability\n",
    "\n",
    "$T_i:$ Incubation Period\n",
    "\n",
    "$T_r:$ Recovery time\n",
    "\n",
    "\n",
    "\\begin{equation}\n",
    "\\begin{split}\n",
    "S \\rightarrow^{P_e} E\\\\\n",
    "E \\rightarrow^{1/T_i} I\\\\\n",
    "I \\rightarrow^{1/T_r} R\\\\\n",
    "\\end{split}\n",
    "\\end{equation}"
   ]
  },
  {
   "cell_type": "code",
   "execution_count": 2,
   "metadata": {},
   "outputs": [],
   "source": [
    "from network_models import sir_network, seir_network\n",
    "\n",
    "import networkx as nx\n",
    "import matplotlib.pyplot as plt\n",
    "from tqdm import tqdm\n",
    "import numpy as np\n",
    "import pandas as pd\n",
    "import random\n",
    "\n",
    "# TODO: must change models to jax + numpyro\n",
    "\n",
    "def run_simulation(graph, model, num_sims=10, t_sim=300):\n",
    "    df_sims = []\n",
    "    for iter_i in tqdm(range(num_sims)):\n",
    "        (df_graph, df_states) = model(graph, len(graph.nodes), t_sim, num_infected_init=None)\n",
    "        df_states['sim_id'] = iter_i\n",
    "        df_sims.append(df_states)\n",
    "    df_all = pd.concat(df_sims)\n",
    "\n",
    "    return (df_all, df_graph)"
   ]
  },
  {
   "cell_type": "code",
   "execution_count": null,
   "metadata": {},
   "outputs": [],
   "source": []
  }
 ],
 "metadata": {
  "authors": [
   {
    "name": "Jaime Cascante"
   }
  ],
  "kernelspec": {
   "display_name": "Python 3",
   "language": "python",
   "name": "python3"
  },
  "language_info": {
   "codemirror_mode": {
    "name": "ipython",
    "version": 3
   },
   "file_extension": ".py",
   "mimetype": "text/x-python",
   "name": "python",
   "nbconvert_exporter": "python",
   "pygments_lexer": "ipython3",
   "version": "3.8.3-final"
  }
 },
 "nbformat": 4,
 "nbformat_minor": 4
}