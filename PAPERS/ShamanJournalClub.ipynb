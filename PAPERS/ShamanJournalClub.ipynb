{
 "cells": [
  {
   "cell_type": "code",
   "execution_count": 1,
   "metadata": {},
   "outputs": [],
   "source": [
    "import pandas as pd\n",
    "import numpy as np\n",
    "import sympy\n"
   ]
  },
  {
   "cell_type": "code",
   "execution_count": 18,
   "metadata": {},
   "outputs": [],
   "source": [
    "# Possible serial interval types available\n",
    "from matplotlib.pyplot import sca\n",
    "\n",
    "\n",
    "dist_names = ['exponential', 'gamma', 'delta', 'bimodal']\n",
    "\n",
    "\n",
    "def gamma_dist(p, x, shape):\n",
    "    \"\"\"\n",
    "    Gamma distribution, p is 1/mean, shape param preset\n",
    "    \"\"\"\n",
    "    # mean = shape * scale\n",
    "    scale = 1 / (p * shape)\n",
    "    rate  = 1/ scale\n",
    "\n",
    "    # Gamma (Erlang) probabilities\n",
    "    pr   = -np.log(np.math.factorial(shape-1)) + shape*np.log(rate) + (shape-1)*np.log(x) - rate*x\n",
    "    return np.exp(pr)\n",
    "\n",
    "\n",
    "def delta_dist(p, xmax, n_win):\n",
    "    \"\"\"\n",
    "    Delta distribution, 1/p is mean\n",
    "    \"\"\"\n",
    "\n",
    "    pr = np.zeros(xmax)\n",
    "\n",
    "\n",
    "    # Num time points either side of omega\n",
    "    a = round(1/p) - (n_win - 1) / 2\n",
    "    b = round(1/p) + (n_win - 1) / 2\n",
    "\n",
    "    pr[a:b+1] =  1 / n_win\n",
    "\n",
    "    return pr"
   ]
  },
  {
   "cell_type": "code",
   "execution_count": 32,
   "metadata": {},
   "outputs": [],
   "source": [
    "\n",
    "gamma_priors = {}\n",
    "gamma_priors[\"shape\"] = 20\n",
    "gamma_priors[\"scale\"] = 20\n",
    "gamma_priors[\"omega\"] = 14.2\n",
    "\n",
    "\n",
    "# Renewal model with R and serial interval densities\n",
    "\n",
    "num_days = 365\n",
    "si_dist  = lambda p: gamma_dist(p, np.arange(1, num_days), gamma_priors[\"shape\"])\n",
    "\n"
   ]
  },
  {
   "cell_type": "code",
   "execution_count": 33,
   "metadata": {},
   "outputs": [],
   "source": [
    "\n",
    "# Constant R\n",
    "Rt = 1.8*np.ones((num_days))\n",
    "\n",
    "# Daily incidence\n",
    "inf = np.zeros(num_days)\n",
    "\n",
    "# Infectiousness, Poisson rate\n",
    "λ    = np.zeros(num_days)\n",
    "rate = np.zeros(num_days)\n",
    "\n",
    "# Initialise epidemic\n",
    "inf[0] = 10\n",
    "\n",
    "pop_size = 1e6\n",
    "sus    = np.zeros(num_days)\n",
    "sus[0] = pop_size - inf[0]\n",
    "\n",
    "\n",
    "# Renewal model\n",
    "for t in range(1, num_days):\n",
    "\n",
    "    # Relevant part of serial distribution\n",
    "    Pomegat = si_dist(1/gamma_priors[\"omega\"])[:t]\n",
    "\n",
    "    # Total infectiousness\n",
    "    λ[t] =   np.dot(np.flip(inf[:t]), Pomegat)\n",
    "\n",
    "    # Rate for ith day incidence\n",
    "    rate[t] = λ[t]*Rt[t]\n",
    "\n",
    "    # Renewal incidence\n",
    "    inf[t] = np.random.poisson(sus[t-1]*rate[t])\n",
    "    sus[t] = sus[t-1] - inf[t]\n"
   ]
  },
  {
   "cell_type": "code",
   "execution_count": 34,
   "metadata": {},
   "outputs": [
    {
     "data": {
      "text/plain": [
       "[<matplotlib.lines.Line2D at 0x7ff4b28ae7f0>]"
      ]
     },
     "execution_count": 34,
     "metadata": {},
     "output_type": "execute_result"
    },
    {
     "data": {
      "image/png": "[encoded data removed]",
      "text/plain": [
       "<Figure size 1116x518.4 with 1 Axes>"
      ]
     },
     "metadata": {
      "needs_background": "light"
     },
     "output_type": "display_data"
    }
   ],
   "source": [
    "import matplotlib.pyplot as plt\n",
    "\n",
    "fig, ax = plt.subplots(1, 1, figsize=(15.5, 7.2))\n",
    "ax.plot(inf)"
   ]
  },
  {
   "cell_type": "code",
   "execution_count": null,
   "metadata": {},
   "outputs": [],
   "source": []
  }
 ],
 "metadata": {
  "kernelspec": {
   "display_name": "Python 3.8.3 ('base')",
   "language": "python",
   "name": "python3"
  },
  "language_info": {
   "codemirror_mode": {
    "name": "ipython",
    "version": 3
   },
   "file_extension": ".py",
   "mimetype": "text/x-python",
   "name": "python",
   "nbconvert_exporter": "python",
   "pygments_lexer": "ipython3",
   "version": "3.8.3"
  },
  "orig_nbformat": 4,
  "vscode": {
   "interpreter": {
    "hash": "3bf8145230181c80995331dcd2d89ae11d44661bbc56f5633064428c02daedd7"
   }
  }
 },
 "nbformat": 4,
 "nbformat_minor": 2
}
