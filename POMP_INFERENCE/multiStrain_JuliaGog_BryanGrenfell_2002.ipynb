{
 "cells": [
  {
   "cell_type": "code",
   "execution_count": null,
   "metadata": {},
   "outputs": [],
   "source": [
    "import pandas as pd\n",
    "import numpy as np\n",
    "\n"
   ]
  },
  {
   "cell_type": "code",
   "execution_count": null,
   "metadata": {},
   "outputs": [],
   "source": [
    "def b_transition(var, rate, dt=1):\n",
    "    kb        = np.maximum(1.0 - np.exp(-rate*dt), 0)\n",
    "    num_ind   = np.random.binomial(var, kb )\n",
    "    return num_ind\n",
    "\n",
    "def model(x, betas, nus, mu, cross_imm_mat, num_strains=2):\n",
    "    Si = x[0, :, :] # Susceptibles [num_strains x num_ensembles]\n",
    "    Ii = x[0, :, :] # Susceptibles [num_strains x num_ensembles]\n",
    "\n",
    "\n",
    "    foi =  beta * (I) / N\n",
    "\n",
    "    # Stochastic transitions\n",
    "    s2i     =  b_transition(S, foi)   # susceptible to exposed\n",
    "    i2r     =  b_transition(I, gamma) # exposed to infected reported who are not going to die\n",
    "\n",
    "\n",
    "    return\n",
    "\n"
   ]
  }
 ],
 "metadata": {
  "language_info": {
   "name": "python"
  },
  "orig_nbformat": 4
 },
 "nbformat": 4,
 "nbformat_minor": 2
}
